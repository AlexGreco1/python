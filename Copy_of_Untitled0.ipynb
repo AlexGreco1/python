{
  "nbformat": 4,
  "nbformat_minor": 0,
  "metadata": {
    "colab": {
      "name": "Copy of Untitled0.ipynb",
      "provenance": [],
      "collapsed_sections": [],
      "authorship_tag": "ABX9TyMOXXWzjoxAzoDYatGHK5Sy",
      "include_colab_link": true
    },
    "kernelspec": {
      "name": "python3",
      "display_name": "Python 3"
    }
  },
  "cells": [
    {
      "cell_type": "markdown",
      "metadata": {
        "id": "view-in-github",
        "colab_type": "text"
      },
      "source": [
        "<a href=\"https://colab.research.google.com/github/AlexGreco1/python/blob/main/Copy_of_Untitled0.ipynb\" target=\"_parent\"><img src=\"https://colab.research.google.com/assets/colab-badge.svg\" alt=\"Open In Colab\"/></a>"
      ]
    },
    {
      "cell_type": "code",
      "metadata": {
        "id": "G3UrTIp_vMAB"
      },
      "source": [
        "def main():\n",
        "  print(\"hello\")\n",
        "  name=input(\"what's your name?\")\n",
        "  print(\"nice to meet you \", name)"
      ],
      "execution_count": null,
      "outputs": []
    },
    {
      "cell_type": "code",
      "metadata": {
        "id": "19ydz7AHwpZU",
        "outputId": "6c814221-2530-4806-aeba-7101fe7fb1a1",
        "colab": {
          "base_uri": "https://localhost:8080/"
        }
      },
      "source": [
        "if __name__ == \"__main__\":\n",
        "  main()"
      ],
      "execution_count": null,
      "outputs": [
        {
          "output_type": "stream",
          "text": [
            "hello\n",
            "what's your name?Ale\n",
            "nice to meet you  Ale\n"
          ],
          "name": "stdout"
        }
      ]
    },
    {
      "cell_type": "code",
      "metadata": {
        "id": "4pIqoeyU2BgU",
        "outputId": "f1fb9c0d-1c62-4350-bfa4-180e7750300c",
        "colab": {
          "base_uri": "https://localhost:8080/"
        }
      },
      "source": [
        "print(\"hi to all you \" + str(12))"
      ],
      "execution_count": null,
      "outputs": [
        {
          "output_type": "stream",
          "text": [
            "hi to all you 12\n"
          ],
          "name": "stdout"
        }
      ]
    },
    {
      "cell_type": "code",
      "metadata": {
        "id": "WG7QO8UN3Hhe",
        "outputId": "ef26d627-ccd2-4623-a3c5-93a902e9e65c",
        "colab": {
          "base_uri": "https://localhost:8080/"
        }
      },
      "source": [
        "def function():\n",
        "  #global f\n",
        "  f=\"def\"\n",
        "  print(f)\n",
        "\n",
        "f=\"q\"\n",
        "function()\n",
        "print (f)\n",
        "\n",
        "\n",
        "function()\n",
        "print(function())\n",
        "print(function)\n",
        "\n",
        "\n",
        "\n",
        "def fun2(arg1,arg2):\n",
        "  print(arg1, \" a \",arg2)\n",
        "\n",
        "fun2(10,20)\n",
        "\n",
        "def power(num,x=1):\n",
        "  result=1\n",
        "  for x in range(x):\n",
        "    result=num*result\n",
        "  return result\n",
        "\n",
        "print (power(4,3))\n",
        "\n",
        "power(x=3,num=4)\n",
        "\n",
        "\n",
        "\n",
        "def mult(*args):\n",
        "  result=0\n",
        "  for x in args:\n",
        "    result=result+x\n",
        "  return result\n",
        "\n",
        "mult(2,4)\n",
        "\n",
        "\n",
        "x,y=10,100\n",
        "if (x>y):\n",
        "  m=\"x is greater\"\n",
        "elif (x==y):\n",
        "  m=\"x and y are the same\"\n",
        "else:\n",
        "  m=\"y us greater than x\"\n",
        "\n",
        "print(m)\n",
        "\n",
        "\n",
        "n=\"x s greater\" if (x>y) else \"y s greter\"\n",
        "print (n)\n",
        "\n",
        "\n",
        "\n",
        "#\n",
        "x=0\n",
        "while (x<5):\n",
        "  print(x)\n",
        "  x=x+1\n",
        "\n",
        "\n",
        "#\n",
        "print(\"cut\")\n",
        "x=1\n",
        "for x in range(5,10):\n",
        "  print (x)\n",
        "\n",
        "\n",
        "#\n",
        "\n",
        "days=[\"mon\",\"tues\",\"wens\"]\n",
        "\n",
        "for d in days:\n",
        "  print(d)\n",
        "\n",
        "\n",
        "\n",
        "for y in range(5,10):\n",
        "  if (y==7):break\n",
        "  print (y)\n",
        "\n",
        "\n",
        "print(\" clo \")\n",
        "\n",
        "for y in range(5,10):\n",
        "  if (y%2==0):continue\n",
        "  print (y)\n",
        "\n",
        "\n",
        "\n",
        "#\n",
        "print(\"xxxx\")\n",
        "\n",
        "days=[\"mon\",\"tues\",\"wens\"]\n",
        "\n",
        "for i,d in enumerate(days):\n",
        "  print(i,d)\n",
        "\n",
        "\n",
        "\n",
        "\n"
      ],
      "execution_count": 5,
      "outputs": [
        {
          "output_type": "stream",
          "text": [
            "def\n",
            "q\n",
            "def\n",
            "def\n",
            "None\n",
            "<function function at 0x7fc124cda0d0>\n",
            "10  a  20\n",
            "64\n",
            "y us greater than x\n",
            "y s greter\n",
            "0\n",
            "1\n",
            "2\n",
            "3\n",
            "4\n",
            "cut\n",
            "5\n",
            "6\n",
            "7\n",
            "8\n",
            "9\n",
            "mon\n",
            "tues\n",
            "wens\n",
            "5\n",
            "6\n",
            " clo \n",
            "5\n",
            "7\n",
            "9\n",
            "xxxx\n",
            "0 mon\n",
            "1 tues\n",
            "2 wens\n"
          ],
          "name": "stdout"
        }
      ]
    },
    {
      "cell_type": "code",
      "metadata": {
        "id": "pd_TYju4XyvH",
        "outputId": "ccadc0ca-5920-4274-ba4f-ec0350199dfa",
        "colab": {
          "base_uri": "https://localhost:8080/"
        }
      },
      "source": [
        "\n",
        "\n",
        "##### clases ######\n",
        "\n",
        "class myClass():\n",
        "    def method1(self):\n",
        "        print(\"myClass method1\")\n",
        "\n",
        "    def method2(self, someString):\n",
        "        print(\"myClass method2: \" + someString)\n",
        "\n",
        "\n",
        "class anotherClass(myClass):\n",
        "    def method2(self, something):\n",
        "        print(\"anotherClass method2\")\n",
        "\n",
        "    def method1(self):\n",
        "        myClass.method1(self)\n",
        "        print(\"anotherClass method1\")\n",
        "\n",
        "\n",
        "def main():\n",
        "    c = myClass()\n",
        "    c.method1()\n",
        "    c.method2(\"This is a string\")\n",
        "    c2 = anotherClass()\n",
        "    c2.method1()\n",
        "    c2.method2(\"This is a string2\") #the function is not using the arrg\n",
        "\n",
        "\n",
        "\n",
        "if __name__ == \"__main__\":\n",
        "    main()\n"
      ],
      "execution_count": 10,
      "outputs": [
        {
          "output_type": "stream",
          "text": [
            "myClass method1\n",
            "myClass method2: This is a string\n",
            "myClass method1\n",
            "anotherClass method1\n",
            "anotherClass method2\n"
          ],
          "name": "stdout"
        }
      ]
    },
    {
      "cell_type": "code",
      "metadata": {
        "id": "Cxisa4gWiLR_",
        "outputId": "760b04a5-35fb-4ff8-fca0-50c7632ea582",
        "colab": {
          "base_uri": "https://localhost:8080/"
        }
      },
      "source": [
        "# import the math module, which contains features for working with mathematics\n",
        "import math\n",
        "\n",
        "# the math module contains lots of pre-built functions\n",
        "print(\"The square root of 16 is\", math.sqrt(16))\n",
        "\n",
        "# in addition to functions, some modules contain useful constants \n",
        "print(\"Pi is:\", math.pi)\n",
        "\n",
        "# try some of the math functions for yourself here:\n"
      ],
      "execution_count": 11,
      "outputs": [
        {
          "output_type": "stream",
          "text": [
            "The square root of 16 is 4.0\n",
            "Pi is: 3.141592653589793\n"
          ],
          "name": "stdout"
        }
      ]
    },
    {
      "cell_type": "code",
      "metadata": {
        "id": "e_LksbeMiuSv",
        "outputId": "814a35c5-666b-4b1f-f3cc-8b6ab4ee5ae1",
        "colab": {
          "base_uri": "https://localhost:8080/"
        }
      },
      "source": [
        "#\n",
        "# Example file for working with date information\n",
        "#\n",
        "\n",
        "from datetime import date\n",
        "from datetime import time\n",
        "from datetime import datetime\n",
        "\n",
        "def main():\n",
        "  ## DATE OBJECTS\n",
        "  # Get today's date from the simple today() method from the date class\n",
        "  today = date.today()\n",
        "  print (\"Today's date is \", today)\n",
        "  \n",
        "  # print out the date's individual components\n",
        "  print (\"Date Components: \", today.day, today.month, today.year)\n",
        "  \n",
        "  # retrieve today's weekday (0=Monday, 6=Sunday)\n",
        "  print (\"Today's Weekday #: \", today.weekday())\n",
        "  days = [\"monday\",\"tuesday\",\"wednesday\",\"thursday\",\"friday\",\"saturday\",\"sunday\"]\n",
        "  print (\"Which is a \" + days[today.weekday()])\n",
        "  \n",
        "  ## DATETIME OBJECTS\n",
        "  # Get today's date from the datetime class\n",
        "  today = datetime.now()\n",
        "  print  (\"The current date and time is \", today)\n",
        "  \n",
        "  # Get the current time\n",
        "  t = datetime.time(datetime.now())\n",
        "  print (\"The current time is \", t)\n",
        "  \n",
        "  \n",
        "if __name__ == \"__main__\":\n",
        "  main();\n",
        "  "
      ],
      "execution_count": 12,
      "outputs": [
        {
          "output_type": "stream",
          "text": [
            "Today's date is  2020-11-15\n",
            "Date Components:  15 11 2020\n",
            "Today's Weekday #:  6\n",
            "Which is a sunday\n",
            "The current date and time is  2020-11-15 15:35:11.761782\n",
            "The current time is  15:35:11.761819\n"
          ],
          "name": "stdout"
        }
      ]
    },
    {
      "cell_type": "code",
      "metadata": {
        "id": "CmYtXniU4qbk",
        "outputId": "8d1feec0-fde7-467b-d4de-3422aa01c60e",
        "colab": {
          "base_uri": "https://localhost:8080/"
        }
      },
      "source": [
        "#\n",
        "# Example file for formatting time and date output\n",
        "#\n",
        "\n",
        "from datetime import datetime\n",
        "\n",
        "def main():\n",
        "  # Times and dates can be formatted using a set of predefined string\n",
        "  # control codes \n",
        "  now = datetime.now() # get the current date and time\n",
        "  \n",
        "  #### Date Formatting ####\n",
        "  \n",
        "  # %y/%Y - Year, %a/%A - weekday, %b/%B - month, %d - day of month\n",
        "  print (now.strftime(\"The current year is: %Y\")) # full year with century\n",
        "  print (now.strftime(\"%a, %d %B, %y\")) # abbreviated day, num, full month, abbreviated year\n",
        "  \n",
        "  # %c - locale's date and time, %x - locale's date, %X - locale's time\n",
        "  print (now.strftime(\"Locale date and time: %c\"))\n",
        "  print (now.strftime(\"Locale date: %x\"))\n",
        "  print (now.strftime(\"Locale time: %X\"))\n",
        "  \n",
        "  #### Time Formatting ####\n",
        "  \n",
        "  # %I/%H - 12/24 Hour, %M - minute, %S - second, %p - locale's AM/PM\n",
        "  print (now.strftime(\"Current time: %I:%M:%S %p\")) # 12-Hour:Minute:Second:AM\n",
        "  print (now.strftime(\"24-hour time: %H:%M\")) # 24-Hour:Minute\n",
        "\n",
        "\n",
        "if __name__ == \"__main__\":\n",
        "  main();\n"
      ],
      "execution_count": 13,
      "outputs": [
        {
          "output_type": "stream",
          "text": [
            "The current year is: 2020\n",
            "Sun, 15 November, 20\n",
            "Locale date and time: Sun Nov 15 17:10:12 2020\n",
            "Locale date: 11/15/20\n",
            "Locale time: 17:10:12\n",
            "Current time: 05:10:12 PM\n",
            "24-hour time: 17:10\n"
          ],
          "name": "stdout"
        }
      ]
    },
    {
      "cell_type": "code",
      "metadata": {
        "id": "DRN9dJyc7nR5",
        "outputId": "e0f182db-65ea-4e99-aaad-dd0ba504e8d3",
        "colab": {
          "base_uri": "https://localhost:8080/"
        }
      },
      "source": [
        "#\n",
        "# Example file for working with timedelta objects\n",
        "#\n",
        "\n",
        "from datetime import date\n",
        "from datetime import time\n",
        "from datetime import datetime\n",
        "from datetime import timedelta\n",
        "\n",
        "# construct a basic timedelta and print it\n",
        "print (timedelta(days=365, hours=5, minutes=1))\n",
        "\n",
        "# print today's date\n",
        "now = datetime.now()\n",
        "print (\"today is: \" + str(now))\n",
        "\n",
        "# print today's date one year from now\n",
        "print (\"one year from now it will be: \" + str(now + timedelta(days=365)))\n",
        "\n",
        "# create a timedelta that uses more than one argument\n",
        "print (\"in two weeks and 3 days it will be: \" + str(now + timedelta(weeks=2, days=3)))\n",
        "\n",
        "# calculate the date 1 week ago, formatted as a string\n",
        "t = datetime.now() - timedelta(weeks=1)\n",
        "s = t.strftime(\"%A %B %d, %Y\")\n",
        "print (\"one week ago it was \" + s)\n",
        "\n",
        "### How many days until April Fools' Day?\n",
        "\n",
        "today = date.today()  # get today's date\n",
        "afd = date(today.year, 4, 1)  # get April Fool's for the same year\n",
        "# use date comparison to see if April Fool's has already gone for this year\n",
        "# if it has, use the replace() function to get the date for next year\n",
        "if afd < today:\n",
        "  print (\"April Fool's day already went by %d days ago\" % ((today-afd).days))\n",
        "  afd = afd.replace(year=today.year + 1)  # if so, get the date for next year\n",
        "\n",
        "# Now calculate the amount of time until April Fool's Day  \n",
        "time_to_afd = afd - today\n",
        "print (\"It's just\", time_to_afd.days, \"days until next April Fools' Day!\")\n",
        "\n"
      ],
      "execution_count": 16,
      "outputs": [
        {
          "output_type": "stream",
          "text": [
            "365 days, 5:01:00\n",
            "today is: 2020-11-15 17:23:22.792380\n",
            "one year from now it will be: 2021-11-15 17:23:22.792380\n",
            "in two weeks and 3 days it will be: 2020-12-02 17:23:22.792380\n",
            "one week ago it was Sunday November 08, 2020\n",
            "April Fool's day already went by 228 days ago\n",
            "It's just 137 days until next April Fools' Day!\n"
          ],
          "name": "stdout"
        }
      ]
    },
    {
      "cell_type": "code",
      "metadata": {
        "id": "sMTHTiPT9y5T",
        "outputId": "c841b0eb-35e7-4f4c-9268-7e095a52a279",
        "colab": {
          "base_uri": "https://localhost:8080/"
        }
      },
      "source": [
        "#\n",
        "# Example file for working with Calendars\n",
        "#\n",
        "\n",
        "import calendar\n",
        "\n",
        "# create a plain text calendar\n",
        "c = calendar.TextCalendar(calendar.SUNDAY)\n",
        "str = c.formatmonth(2017, 1, 0, 0)\n",
        "print (str)\n",
        "\n",
        "# create an HTML formatted calendar\n",
        "hc = calendar.HTMLCalendar(calendar.SUNDAY)\n",
        "str = hc.formatmonth(2017, 1)\n",
        "print (str)\n",
        "\n",
        "# loop over the days of a month\n",
        "# zeroes mean that the day of the week is in an overlapping month\n",
        "for i in c.itermonthdays(2017, 8):\n",
        "  print (i)\n",
        "  \n",
        "# The Calendar module provides useful utilities for the given locale,\n",
        "# such as the names of days and months in both full and abbreviated forms\n",
        "for name in calendar.month_name:\n",
        "  print (name)\n",
        "\n",
        "for day in calendar.day_name:\n",
        "  print (day)\n",
        "\n",
        "# Calculate days based on a rule: For example, consider\n",
        "# a team meeting on the first Friday of every month.\n",
        "# To figure out what days that would be for each month,\n",
        "# we can use this script:\n",
        "print (\"Team meetings will be on:\")\n",
        "for m in range(1,13):\n",
        "  # returns an array of weeks that represent the month\n",
        "  cal = calendar.monthcalendar(2017, m)\n",
        "  # The first Friday has to be within the first two weeks\n",
        "  weekone = cal[0]\n",
        "  weektwo = cal[1]\n",
        "   \n",
        "  if weekone[calendar.FRIDAY] != 0:\n",
        "    meetday = weekone[calendar.FRIDAY]\n",
        "  else:\n",
        "    # if the first friday isn't in the first week, it must be in the second\n",
        "    meetday = weektwo[calendar.FRIDAY]\n",
        "      \n",
        "  print (\"%10s %2d\" % (calendar.month_name[m], meetday))\n"
      ],
      "execution_count": 17,
      "outputs": [
        {
          "output_type": "stream",
          "text": [
            "    January 2017\n",
            "Su Mo Tu We Th Fr Sa\n",
            " 1  2  3  4  5  6  7\n",
            " 8  9 10 11 12 13 14\n",
            "15 16 17 18 19 20 21\n",
            "22 23 24 25 26 27 28\n",
            "29 30 31\n",
            "\n",
            "<table border=\"0\" cellpadding=\"0\" cellspacing=\"0\" class=\"month\">\n",
            "<tr><th colspan=\"7\" class=\"month\">January 2017</th></tr>\n",
            "<tr><th class=\"sun\">Sun</th><th class=\"mon\">Mon</th><th class=\"tue\">Tue</th><th class=\"wed\">Wed</th><th class=\"thu\">Thu</th><th class=\"fri\">Fri</th><th class=\"sat\">Sat</th></tr>\n",
            "<tr><td class=\"sun\">1</td><td class=\"mon\">2</td><td class=\"tue\">3</td><td class=\"wed\">4</td><td class=\"thu\">5</td><td class=\"fri\">6</td><td class=\"sat\">7</td></tr>\n",
            "<tr><td class=\"sun\">8</td><td class=\"mon\">9</td><td class=\"tue\">10</td><td class=\"wed\">11</td><td class=\"thu\">12</td><td class=\"fri\">13</td><td class=\"sat\">14</td></tr>\n",
            "<tr><td class=\"sun\">15</td><td class=\"mon\">16</td><td class=\"tue\">17</td><td class=\"wed\">18</td><td class=\"thu\">19</td><td class=\"fri\">20</td><td class=\"sat\">21</td></tr>\n",
            "<tr><td class=\"sun\">22</td><td class=\"mon\">23</td><td class=\"tue\">24</td><td class=\"wed\">25</td><td class=\"thu\">26</td><td class=\"fri\">27</td><td class=\"sat\">28</td></tr>\n",
            "<tr><td class=\"sun\">29</td><td class=\"mon\">30</td><td class=\"tue\">31</td><td class=\"noday\">&nbsp;</td><td class=\"noday\">&nbsp;</td><td class=\"noday\">&nbsp;</td><td class=\"noday\">&nbsp;</td></tr>\n",
            "</table>\n",
            "\n",
            "0\n",
            "0\n",
            "1\n",
            "2\n",
            "3\n",
            "4\n",
            "5\n",
            "6\n",
            "7\n",
            "8\n",
            "9\n",
            "10\n",
            "11\n",
            "12\n",
            "13\n",
            "14\n",
            "15\n",
            "16\n",
            "17\n",
            "18\n",
            "19\n",
            "20\n",
            "21\n",
            "22\n",
            "23\n",
            "24\n",
            "25\n",
            "26\n",
            "27\n",
            "28\n",
            "29\n",
            "30\n",
            "31\n",
            "0\n",
            "0\n",
            "\n",
            "January\n",
            "February\n",
            "March\n",
            "April\n",
            "May\n",
            "June\n",
            "July\n",
            "August\n",
            "September\n",
            "October\n",
            "November\n",
            "December\n",
            "Monday\n",
            "Tuesday\n",
            "Wednesday\n",
            "Thursday\n",
            "Friday\n",
            "Saturday\n",
            "Sunday\n",
            "Team meetings will be on:\n",
            "   January  6\n",
            "  February  3\n",
            "     March  3\n",
            "     April  7\n",
            "       May  5\n",
            "      June  2\n",
            "      July  7\n",
            "    August  4\n",
            " September  1\n",
            "   October  6\n",
            "  November  3\n",
            "  December  1\n"
          ],
          "name": "stdout"
        }
      ]
    },
    {
      "cell_type": "code",
      "metadata": {
        "id": "tfHV4RxbACqI",
        "outputId": "3dae67c0-9660-4236-ace2-3b9d5736102f",
        "colab": {
          "base_uri": "https://localhost:8080/"
        }
      },
      "source": [
        "#\n",
        "# Read and write files using the built-in Python file methods\n",
        "#\n",
        "\n",
        "def main():  \n",
        "  # Open a file for writing and create it if it doesn't exist\n",
        "  f = open(\"textfile.txt\",\"w+\")\n",
        "  \n",
        "  # Open the file for appending text to the end\n",
        "  # f = open(\"textfile.txt\",\"a+\")\n",
        "\n",
        "  # write some lines of data to the file\n",
        "  for i in range(10):\n",
        "    f.write(\"This is line %d\\r\\n\" % (i+1))\n",
        "  \n",
        "  # close the file when done\n",
        "  f.close()\n",
        "  \n",
        "  # Open the file back up and read the contents\n",
        "  f = open(\"textfile.txt\",\"r\")\n",
        "  if f.mode == 'r': # check to make sure that the file was opened\n",
        "    # use the read() function to read the entire file\n",
        "    # contents = f.read()\n",
        "    # print (contents)\n",
        "    \n",
        "    fl = f.readlines() # readlines reads the individual lines into a list\n",
        "    for x in fl:\n",
        "      print (x)\n",
        "    \n",
        "if __name__ == \"__main__\":\n",
        "  main()\n"
      ],
      "execution_count": 18,
      "outputs": [
        {
          "output_type": "stream",
          "text": [
            "This is line 1\n",
            "\n",
            "This is line 2\n",
            "\n",
            "This is line 3\n",
            "\n",
            "This is line 4\n",
            "\n",
            "This is line 5\n",
            "\n",
            "This is line 6\n",
            "\n",
            "This is line 7\n",
            "\n",
            "This is line 8\n",
            "\n",
            "This is line 9\n",
            "\n",
            "This is line 10\n",
            "\n"
          ],
          "name": "stdout"
        }
      ]
    },
    {
      "cell_type": "code",
      "metadata": {
        "id": "rIPxeQWQpkd_"
      },
      "source": [
        "#\n",
        "# Example file for working with os.path module\n",
        "#\n",
        "\n",
        "import os\n",
        "from os import path\n",
        "import datetime\n",
        "from datetime import date, time, timedelta\n",
        "import time\n",
        "\n",
        "def main():\n",
        "  # Print the name of the OS\n",
        "  print (os.name)\n",
        "  \n",
        "  # Check for item existence and type\n",
        "  print (\"Item exists: \" + str(path.exists(\"textfile.txt\")))\n",
        "  print (\"Item is a file: \" + str(path.isfile(\"textfile.txt\")))\n",
        "  print (\"Item is a directory: \" + str(path.isdir(\"textfile.txt\")))\n",
        "  \n",
        "  # Work with file paths\n",
        "  print (\"Item's path: \" + str(path.realpath(\"textfile.txt\")))\n",
        "  print (\"Item's path and name: \" + str(path.split(path.realpath(\"textfile.txt\"))))\n",
        "  \n",
        "  # Get the modification time\n",
        "  t = time.ctime(path.getmtime(\"textfile.txt\"))\n",
        "  print (t)\n",
        "  print (datetime.datetime.fromtimestamp(path.getmtime(\"textfile.txt\")))\n",
        "  \n",
        "  # Calculate how long ago the item was modified\n",
        "  td= datetime.datetime.now() - datetime.datetime.fromtimestamp(path.getmtime(\"textfile.txt\"))\n",
        "  print (\"It has been \" + str(td) + \" since the file was modified\")\n",
        "  print (\"Or, \" + str(td.total_seconds()) + \" seconds\")\n",
        "\n",
        "if __name__ == \"__main__\":\n",
        "  main()\n"
      ],
      "execution_count": null,
      "outputs": []
    },
    {
      "cell_type": "code",
      "metadata": {
        "id": "KnBLtrGIpol-"
      },
      "source": [
        "#\n",
        "# Example file for working with filesystem shell methods\n",
        "#\n",
        "import os\n",
        "from os import path\n",
        "import shutil\n",
        "from shutil import make_archive\n",
        "from zipfile import ZipFile\n",
        "\n",
        "def main():\n",
        "  # make a duplicate of an existing file\n",
        "  if path.exists(\"textfile.txt\"):\n",
        "    # get the path to the file in the current directory\n",
        "    src = path.realpath(\"textfile.txt\");\n",
        "        \n",
        "    # # let's make a backup copy by appending \"bak\" to the name\n",
        "    dst = src + \".bak\"\n",
        "    # # now use the shell to make a copy of the file\n",
        "    shutil.copy(src,dst)\n",
        "    \n",
        "    # # copy over the permissions, modification times, and other info\n",
        "    shutil.copystat(src, dst)\n",
        "    \n",
        "    # # rename the original file\n",
        "    os.rename(\"textfile.txt\", \"newfile.txt\")\n",
        "    \n",
        "    # now put things into a ZIP archive\n",
        "    root_dir,tail = path.split(src)\n",
        "    shutil.make_archive(\"archive\", \"zip\", root_dir)\n",
        "\n",
        "    # more fine-grained control over ZIP files\n",
        "    with ZipFile(\"testzip.zip\",\"w\") as newzip:\n",
        "      newzip.write(\"newfile.txt\")\n",
        "      newzip.write(\"textfile.txt.bak\")\n",
        "      \n",
        "if __name__ == \"__main__\":\n",
        "  main()\n"
      ],
      "execution_count": null,
      "outputs": []
    }
  ]
}