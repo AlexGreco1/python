{
  "nbformat": 4,
  "nbformat_minor": 0,
  "metadata": {
    "colab": {
      "name": "Copy of Untitled0.ipynb",
      "provenance": [],
      "authorship_tag": "ABX9TyM2sTWHKkZnIcSoTS8Ibzmd",
      "include_colab_link": true
    },
    "kernelspec": {
      "name": "python3",
      "display_name": "Python 3"
    }
  },
  "cells": [
    {
      "cell_type": "markdown",
      "metadata": {
        "id": "view-in-github",
        "colab_type": "text"
      },
      "source": [
        "<a href=\"https://colab.research.google.com/github/AlexGreco1/python/blob/main/Copy_of_Untitled0.ipynb\" target=\"_parent\"><img src=\"https://colab.research.google.com/assets/colab-badge.svg\" alt=\"Open In Colab\"/></a>"
      ]
    },
    {
      "cell_type": "code",
      "metadata": {
        "id": "G3UrTIp_vMAB"
      },
      "source": [
        "def main():\n",
        "  print(\"hello\")\n",
        "  name=input(\"what's your name?\")\n",
        "  print(\"nice to meet you \", name)"
      ],
      "execution_count": null,
      "outputs": []
    },
    {
      "cell_type": "code",
      "metadata": {
        "id": "19ydz7AHwpZU",
        "outputId": "6c814221-2530-4806-aeba-7101fe7fb1a1",
        "colab": {
          "base_uri": "https://localhost:8080/"
        }
      },
      "source": [
        "if __name__ == \"__main__\":\n",
        "  main()"
      ],
      "execution_count": null,
      "outputs": [
        {
          "output_type": "stream",
          "text": [
            "hello\n",
            "what's your name?Ale\n",
            "nice to meet you  Ale\n"
          ],
          "name": "stdout"
        }
      ]
    },
    {
      "cell_type": "code",
      "metadata": {
        "id": "4pIqoeyU2BgU",
        "outputId": "f1fb9c0d-1c62-4350-bfa4-180e7750300c",
        "colab": {
          "base_uri": "https://localhost:8080/"
        }
      },
      "source": [
        "print(\"hi to all you \" + str(12))"
      ],
      "execution_count": null,
      "outputs": [
        {
          "output_type": "stream",
          "text": [
            "hi to all you 12\n"
          ],
          "name": "stdout"
        }
      ]
    },
    {
      "cell_type": "code",
      "metadata": {
        "id": "WG7QO8UN3Hhe",
        "outputId": "5d60f52f-ed1e-40b9-d44b-9742f6f7b5bf",
        "colab": {
          "base_uri": "https://localhost:8080/"
        }
      },
      "source": [
        "def function():\n",
        "  #global f\n",
        "  f=\"def\"\n",
        "  print(f)\n",
        "\n",
        "f=\"q\"\n",
        "function()\n",
        "print (f)\n",
        "\n",
        "\n",
        "function()\n",
        "print(function())\n",
        "print(function)\n",
        "\n",
        "\n",
        "\n",
        "def fun2(arg1,arg2):\n",
        "  print(arg1, \" a \",arg2)\n",
        "\n",
        "fun2(10,20)\n",
        "\n",
        "def power(num,x=1):\n",
        "  result=1\n",
        "  for x in range(x):\n",
        "    result=num*result\n",
        "  return result\n",
        "\n",
        "print (power(4,3))\n",
        "\n",
        "power(x=3,num=4)\n",
        "\n",
        "\n",
        "\n",
        "def mult(*args):\n",
        "  result=0\n",
        "  for x in args:\n",
        "    result=result+x\n",
        "  return result\n",
        "\n",
        "mult(2,4)\n",
        "\n",
        "\n",
        "x,y=10,100\n",
        "if (x>y):\n",
        "  m=\"x is greater\"\n",
        "elif (x==y):\n",
        "  m=\"x and y are the same\"\n",
        "else:\n",
        "  m=\"y us greater than x\"\n",
        "\n",
        "print(m)\n",
        "\n",
        "\n",
        "n=\"x s greater\" if (x>y) else \"y s greter\"\n",
        "print (n)\n",
        "\n",
        "\n",
        "\n",
        "#\n",
        "x=0\n",
        "while (x<5):\n",
        "  print(x)\n",
        "  x=x+1\n",
        "\n",
        "\n",
        "#\n",
        "print(\"cut\")\n",
        "x=1\n",
        "for x in range(5,10):\n",
        "  print (x)\n",
        "\n",
        "\n",
        "#\n",
        "\n",
        "days=[\"mon\",\"tues\",\"wens\"]\n",
        "\n",
        "for d in days:\n",
        "  print(d)"
      ],
      "execution_count": null,
      "outputs": [
        {
          "output_type": "stream",
          "text": [
            "def\n",
            "q\n",
            "def\n",
            "def\n",
            "None\n",
            "<function function at 0x7f65135b6ea0>\n",
            "10  a  20\n",
            "64\n",
            "y us greater than x\n",
            "y s greter\n",
            "0\n",
            "1\n",
            "2\n",
            "3\n",
            "4\n",
            "cut\n",
            "5\n",
            "6\n",
            "7\n",
            "8\n",
            "9\n",
            "mon\n",
            "tues\n",
            "wens\n"
          ],
          "name": "stdout"
        }
      ]
    }
  ]
}